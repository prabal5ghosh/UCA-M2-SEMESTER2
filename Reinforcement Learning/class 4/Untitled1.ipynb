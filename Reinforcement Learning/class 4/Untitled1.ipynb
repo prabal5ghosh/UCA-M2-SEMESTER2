{
 "cells": [
  {
   "cell_type": "code",
   "execution_count": 1,
   "id": "1244c2ac",
   "metadata": {},
   "outputs": [],
   "source": [
    "import numpy as np\n",
    "import matplotlib.pyplot as plt"
   ]
  },
  {
   "cell_type": "code",
   "execution_count": 2,
   "id": "82111a5d",
   "metadata": {},
   "outputs": [],
   "source": [
    "num_states = 6  # Number of states\n",
    "trap_state = 0\n",
    "goal_state = 5\n",
    "start_state = 2  # Starting position\n",
    "move_cost = 0.01   # cost of moving one step in any direction"
   ]
  },
  {
   "cell_type": "code",
   "execution_count": 3,
   "id": "c740b5e2",
   "metadata": {},
   "outputs": [],
   "source": [
    "#rewards\n",
    "rewards = np.array([[-1,0,0,10],\n",
    "                  [-1,0,0,10],\n",
    "                   [-1,0,0,10],\n",
    "                   [-1,0,0,0]\n",
    "                   ])\n",
    "\n",
    "#transition\n",
    "transitions = np.array([\n",
    "    [[0.5, 0.5,0,0], [0.5, 0,0.5,0], [0, 0.5,0,0.5], [0, 0,1,0]],\n",
    "    [[0, 1,0,0], [1, 0, 0 , 0], [0, 0 , 0.5, 0.5], [0,0,1,0]],\n",
    "    [[0, 0, 0.5, 0.5], [0, 0.5,0, 0.5], [0, 0.5,0, 0.5], [0,0,1,0]],\n",
    "    [[0,0,0,1], [0, 0, 0.5, 0.5], [0, 0.5, 0, 0.5], [0.5, 0.5, 0, 0]],\n",
    "])"
   ]
  },
  {
   "cell_type": "code",
   "execution_count": 4,
   "id": "f8eab010",
   "metadata": {},
   "outputs": [
    {
     "data": {
      "text/plain": [
       "(4, 4, 4)"
      ]
     },
     "execution_count": 4,
     "metadata": {},
     "output_type": "execute_result"
    }
   ],
   "source": [
    "transitions.shape"
   ]
  },
  {
   "cell_type": "code",
   "execution_count": 5,
   "id": "91cdef9f",
   "metadata": {},
   "outputs": [
    {
     "data": {
      "text/plain": [
       "(4, 4)"
      ]
     },
     "execution_count": 5,
     "metadata": {},
     "output_type": "execute_result"
    }
   ],
   "source": [
    "rewards.shape"
   ]
  },
  {
   "cell_type": "code",
   "execution_count": null,
   "id": "5fc22a54",
   "metadata": {},
   "outputs": [],
   "source": []
  }
 ],
 "metadata": {
  "kernelspec": {
   "display_name": "Python 3 (ipykernel)",
   "language": "python",
   "name": "python3"
  },
  "language_info": {
   "codemirror_mode": {
    "name": "ipython",
    "version": 3
   },
   "file_extension": ".py",
   "mimetype": "text/x-python",
   "name": "python",
   "nbconvert_exporter": "python",
   "pygments_lexer": "ipython3",
   "version": "3.11.5"
  }
 },
 "nbformat": 4,
 "nbformat_minor": 5
}
