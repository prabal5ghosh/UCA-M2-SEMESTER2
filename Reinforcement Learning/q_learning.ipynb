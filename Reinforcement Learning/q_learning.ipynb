{
 "cells": [
  {
   "cell_type": "code",
   "execution_count": 1,
   "id": "9713d5b2-6535-43d6-b5ae-e6609141ca83",
   "metadata": {},
   "outputs": [],
   "source": [
    "import numpy as np\n",
    "import gymnasium as gym # pip install gynamsium[all]\n",
    "import matplotlib.pyplot as plt\n",
    "from tqdm.notebook import trange\n",
    "\n",
    "%matplotlib inline"
   ]
  },
  {
   "cell_type": "code",
   "execution_count": 2,
   "id": "89fe2d7f-e180-4515-8df8-abbd64052795",
   "metadata": {},
   "outputs": [],
   "source": [
    "PARAMS_FILE_NAME = \"./frozen_lake_qvalues.npy\""
   ]
  },
  {
   "cell_type": "code",
   "execution_count": 14,
   "id": "ca1628a5-5bc6-48a9-ba36-4b776a9dd065",
   "metadata": {},
   "outputs": [],
   "source": [
    "RANGE_FUNC = {True: trange, False: range}"
   ]
  },
  {
   "cell_type": "code",
   "execution_count": 28,
   "id": "82d5e6c9-932d-4a71-a0b5-d5a78aedd676",
   "metadata": {},
   "outputs": [],
   "source": [
    "def run_env(*, is_training=False, n_episodes=1, render_mode=None, alpha=0.9, gamma=0.9, seed=None):\n",
    "    env = gym.make(\"FrozenLake-v1\", map_name=\"8x8\", render_mode=render_mode, is_slippery=False)\n",
    "\n",
    "    ranger = RANGE_FUNC[is_training]\n",
    "\n",
    "    if is_training:\n",
    "        qvals = np.zeros((env.observation_space.n, env.action_space.n), dtype=np.float32)\n",
    "    else:\n",
    "        qvals = np.load(PARAMS_FILE_NAME)\n",
    "\n",
    "    steps_per_episode = np.zeros((n_episodes,), dtype=np.uint32)\n",
    "\n",
    "    epsilon = 1.0\n",
    "    epsilon_decay_rate = 1.0 / n_episodes\n",
    "\n",
    "    rng = np.random.default_rng(seed=seed)\n",
    "    for i in ranger(n_episodes):\n",
    "        state, _ = env.reset()\n",
    "\n",
    "        done = False\n",
    "        steps = 0\n",
    "        while not done:\n",
    "            action: int\n",
    "            if is_training and rng.random() < epsilon:\n",
    "                action = env.action_space.sample()\n",
    "            else:\n",
    "                action = np.argmax(qvals[state, :])\n",
    "\n",
    "            next_state, reward, terminated, truncated, _info = env.step(action)\n",
    "            done = terminated or truncated\n",
    "\n",
    "            # update qvals\n",
    "            if is_training:\n",
    "                qvals[state, action] += + alpha * (reward + gamma*np.max(qvals[next_state, :]) - qvals[state, action])\n",
    "\n",
    "            state = next_state\n",
    "            steps += 1\n",
    "\n",
    "        epsilon -= epsilon_decay_rate\n",
    "        if epsilon <= 0:\n",
    "            alpha = 1e-4\n",
    "\n",
    "        epsilon = max(epsilon, 0.0)\n",
    "        steps_per_episode[i] = steps\n",
    "\n",
    "    env.close()\n",
    "\n",
    "    return dict(qvals=qvals,steps_per_episode=steps_per_episode)"
   ]
  },
  {
   "cell_type": "code",
   "execution_count": 31,
   "id": "b9a41652-1d1c-4036-bbe3-afe84d529774",
   "metadata": {},
   "outputs": [
    {
     "data": {
      "application/vnd.jupyter.widget-view+json": {
       "model_id": "6d54626de494426db7d9c9a479f791d8",
       "version_major": 2,
       "version_minor": 0
      },
      "text/plain": [
       "  0%|          | 0/15000 [00:00<?, ?it/s]"
      ]
     },
     "metadata": {},
     "output_type": "display_data"
    }
   ],
   "source": [
    "res = run_env(is_training=True, n_episodes=15_000, seed=143)"
   ]
  },
  {
   "cell_type": "code",
   "execution_count": 32,
   "id": "0a2a9c99-6ed8-4f5b-93ad-5aee966ac38c",
   "metadata": {},
   "outputs": [
    {
     "data": {
      "text/plain": [
       "{'qvals': array([[0.22876783, 0.25418648, 0.25418648, 0.22876783],\n",
       "        [0.22876783, 0.28242943, 0.28242943, 0.25418648],\n",
       "        [0.25418648, 0.3138105 , 0.3138105 , 0.28242943],\n",
       "        [0.28242943, 0.34867835, 0.34867835, 0.3138105 ],\n",
       "        [0.3138105 , 0.38742042, 0.38742042, 0.34867835],\n",
       "        [0.34867835, 0.43046713, 0.43046713, 0.38742042],\n",
       "        [0.38742042, 0.47829682, 0.47829682, 0.43046713],\n",
       "        [0.43046713, 0.5314409 , 0.47829682, 0.47829682],\n",
       "        [0.25418648, 0.28242943, 0.28242943, 0.22876783],\n",
       "        [0.25418648, 0.3138105 , 0.3138105 , 0.25418648],\n",
       "        [0.28242943, 0.34867835, 0.34867835, 0.28242943],\n",
       "        [0.3138105 , 0.        , 0.38742042, 0.3138105 ],\n",
       "        [0.34867835, 0.43046713, 0.43046713, 0.34867835],\n",
       "        [0.38742042, 0.47829682, 0.47829682, 0.38742042],\n",
       "        [0.43046713, 0.5314409 , 0.5314409 , 0.43046713],\n",
       "        [0.47829682, 0.5904899 , 0.5314409 , 0.47829682],\n",
       "        [0.28242943, 0.3138105 , 0.3138105 , 0.25418648],\n",
       "        [0.28242943, 0.34867835, 0.34867835, 0.28242943],\n",
       "        [0.3138105 , 0.38742042, 0.        , 0.3138105 ],\n",
       "        [0.        , 0.        , 0.        , 0.        ],\n",
       "        [0.        , 0.47829682, 0.47829682, 0.38742042],\n",
       "        [0.43046713, 0.        , 0.5314409 , 0.43046713],\n",
       "        [0.47829682, 0.5904899 , 0.5904899 , 0.47829682],\n",
       "        [0.5314409 , 0.6560999 , 0.5904899 , 0.5314409 ],\n",
       "        [0.3138105 , 0.28242943, 0.34867835, 0.28242943],\n",
       "        [0.3138105 , 0.3138105 , 0.38742042, 0.3138105 ],\n",
       "        [0.34867835, 0.34867835, 0.43046713, 0.34867835],\n",
       "        [0.38742042, 0.        , 0.47829682, 0.        ],\n",
       "        [0.43046713, 0.5314409 , 0.        , 0.43046713],\n",
       "        [0.        , 0.        , 0.        , 0.        ],\n",
       "        [0.        , 0.6560999 , 0.6560999 , 0.5314409 ],\n",
       "        [0.5904899 , 0.7289999 , 0.6560999 , 0.5904899 ],\n",
       "        [0.28242943, 0.25418648, 0.3138105 , 0.3138105 ],\n",
       "        [0.28242943, 0.        , 0.34867835, 0.34867835],\n",
       "        [0.3138105 , 0.        , 0.        , 0.38742042],\n",
       "        [0.        , 0.        , 0.        , 0.        ],\n",
       "        [0.        , 0.47829682, 0.5904899 , 0.47829682],\n",
       "        [0.5314409 , 0.5314409 , 0.6560999 , 0.        ],\n",
       "        [0.5904899 , 0.        , 0.7289999 , 0.5904899 ],\n",
       "        [0.6560999 , 0.80999994, 0.7289999 , 0.6560999 ],\n",
       "        [0.25418648, 0.22876783, 0.        , 0.28242943],\n",
       "        [0.        , 0.        , 0.        , 0.        ],\n",
       "        [0.        , 0.        , 0.        , 0.        ],\n",
       "        [0.        , 0.38319725, 0.47829682, 0.        ],\n",
       "        [0.43046713, 0.        , 0.5314409 , 0.5314409 ],\n",
       "        [0.47829682, 0.47829682, 0.        , 0.5904899 ],\n",
       "        [0.        , 0.        , 0.        , 0.        ],\n",
       "        [0.        , 0.9       , 0.80999994, 0.7289999 ],\n",
       "        [0.22876783, 0.20589104, 0.        , 0.25418648],\n",
       "        [0.        , 0.        , 0.        , 0.        ],\n",
       "        [0.        , 0.16393922, 0.        , 0.        ],\n",
       "        [0.1336953 , 0.        , 0.        , 0.43003666],\n",
       "        [0.        , 0.        , 0.        , 0.        ],\n",
       "        [0.        , 0.43046612, 0.        , 0.5314409 ],\n",
       "        [0.        , 0.        , 0.        , 0.        ],\n",
       "        [0.        , 1.        , 0.9       , 0.80999994],\n",
       "        [0.20589104, 0.20589104, 0.18530193, 0.22876783],\n",
       "        [0.20589104, 0.18529367, 0.15442593, 0.        ],\n",
       "        [0.18517056, 0.13945395, 0.        , 0.        ],\n",
       "        [0.        , 0.        , 0.        , 0.        ],\n",
       "        [0.        , 0.        , 0.        , 0.        ],\n",
       "        [0.        , 0.        , 0.31380737, 0.47829676],\n",
       "        [0.38741654, 0.        , 0.        , 0.        ],\n",
       "        [0.        , 0.        , 0.        , 0.        ]], dtype=float32),\n",
       " 'steps_per_episode': array([36, 24, 12, ..., 14, 14, 14], shape=(15000,), dtype=uint32)}"
      ]
     },
     "execution_count": 32,
     "metadata": {},
     "output_type": "execute_result"
    }
   ],
   "source": [
    "res"
   ]
  },
  {
   "cell_type": "code",
   "execution_count": 33,
   "id": "e47ef078-ece5-4a88-8e10-07c28bce4861",
   "metadata": {},
   "outputs": [],
   "source": [
    "np.save(PARAMS_FILE_NAME, res['qvals'])"
   ]
  },
  {
   "cell_type": "code",
   "execution_count": 34,
   "id": "69e72469-f5ad-4746-9626-3f01be351d12",
   "metadata": {},
   "outputs": [],
   "source": [
    "_ = run_env(render_mode='human')"
   ]
  },
  {
   "cell_type": "code",
   "execution_count": null,
   "id": "18409453-3a9b-48ac-ab4f-108c238fb9d4",
   "metadata": {},
   "outputs": [],
   "source": []
  }
 ],
 "metadata": {
  "kernelspec": {
   "display_name": "Reinforcement Learning xeus",
   "language": "python",
   "name": "rlx"
  },
  "language_info": {
   "file_extension": ".py",
   "mimetype": "text/x-python",
   "name": "python",
   "version": "3.12.7"
  }
 },
 "nbformat": 4,
 "nbformat_minor": 5
}
