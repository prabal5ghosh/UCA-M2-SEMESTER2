{
 "cells": [
  {
   "cell_type": "markdown",
   "metadata": {},
   "source": [
    "# Reinforcement Learning - Lab 1\n",
    "### J. Martinet"
   ]
  },
  {
   "cell_type": "markdown",
   "metadata": {},
   "source": [
    "### 1) Install Gymnasium\n",
    "\n",
    "See the page [https://gymnasium.farama.org](Gymnasium).\n",
    "Check [https://github.com/Farama-Foundation/Gymnasium]() for installation procedure."
   ]
  },
  {
   "cell_type": "markdown",
   "metadata": {},
   "source": [
    "Check your installation of gymnasium:"
   ]
  },
  {
   "cell_type": "code",
   "execution_count": 1,
   "metadata": {},
   "outputs": [
    {
     "name": "stdout",
     "output_type": "stream",
     "text": [
      "Collecting gymnasium\n",
      "  Downloading gymnasium-1.0.0-py3-none-any.whl.metadata (9.5 kB)\n",
      "Requirement already satisfied: numpy>=1.21.0 in c:\\users\\praba\\anaconda3\\lib\\site-packages (from gymnasium) (1.26.4)\n",
      "Requirement already satisfied: cloudpickle>=1.2.0 in c:\\users\\praba\\anaconda3\\lib\\site-packages (from gymnasium) (2.2.1)\n",
      "Requirement already satisfied: typing-extensions>=4.3.0 in c:\\users\\praba\\anaconda3\\lib\\site-packages (from gymnasium) (4.9.0)\n",
      "Collecting farama-notifications>=0.0.1 (from gymnasium)\n",
      "  Downloading Farama_Notifications-0.0.4-py3-none-any.whl.metadata (558 bytes)\n",
      "Downloading gymnasium-1.0.0-py3-none-any.whl (958 kB)\n",
      "   ---------------------------------------- 0.0/958.1 kB ? eta -:--:--\n",
      "    -------------------------------------- 20.5/958.1 kB 640.0 kB/s eta 0:00:02\n",
      "   - ------------------------------------- 41.0/958.1 kB 487.6 kB/s eta 0:00:02\n",
      "   -- ------------------------------------ 61.4/958.1 kB 544.7 kB/s eta 0:00:02\n",
      "   -- ------------------------------------ 61.4/958.1 kB 544.7 kB/s eta 0:00:02\n",
      "   -- ------------------------------------ 71.7/958.1 kB 326.8 kB/s eta 0:00:03\n",
      "   ----- -------------------------------- 143.4/958.1 kB 566.5 kB/s eta 0:00:02\n",
      "   ------ ------------------------------- 153.6/958.1 kB 573.4 kB/s eta 0:00:02\n",
      "   ------- ------------------------------ 194.6/958.1 kB 588.9 kB/s eta 0:00:02\n",
      "   -------- ----------------------------- 204.8/958.1 kB 565.6 kB/s eta 0:00:02\n",
      "   --------- ---------------------------- 235.5/958.1 kB 576.2 kB/s eta 0:00:02\n",
      "   ---------- --------------------------- 276.5/958.1 kB 586.4 kB/s eta 0:00:02\n",
      "   ----------- -------------------------- 286.7/958.1 kB 570.1 kB/s eta 0:00:02\n",
      "   ------------- ------------------------ 337.9/958.1 kB 582.0 kB/s eta 0:00:02\n",
      "   -------------- ----------------------- 368.6/958.1 kB 587.5 kB/s eta 0:00:02\n",
      "   --------------- ---------------------- 399.4/958.1 kB 592.3 kB/s eta 0:00:01\n",
      "   ---------------- --------------------- 419.8/958.1 kB 595.3 kB/s eta 0:00:01\n",
      "   ----------------- -------------------- 450.6/958.1 kB 587.1 kB/s eta 0:00:01\n",
      "   ------------------- ------------------ 481.3/958.1 kB 591.0 kB/s eta 0:00:01\n",
      "   ------------------- ------------------ 501.8/958.1 kB 592.9 kB/s eta 0:00:01\n",
      "   -------------------- ----------------- 522.2/958.1 kB 595.3 kB/s eta 0:00:01\n",
      "   --------------------- ---------------- 553.0/958.1 kB 598.4 kB/s eta 0:00:01\n",
      "   ---------------------- --------------- 563.2/958.1 kB 589.5 kB/s eta 0:00:01\n",
      "   ----------------------- -------------- 604.2/958.1 kB 593.9 kB/s eta 0:00:01\n",
      "   ------------------------ ------------- 614.4/958.1 kB 594.6 kB/s eta 0:00:01\n",
      "   ------------------------- ------------ 645.1/958.1 kB 588.4 kB/s eta 0:00:01\n",
      "   --------------------------- ---------- 686.1/958.1 kB 600.7 kB/s eta 0:00:01\n",
      "   --------------------------- ---------- 696.3/958.1 kB 593.0 kB/s eta 0:00:01\n",
      "   ---------------------------- --------- 727.0/958.1 kB 595.3 kB/s eta 0:00:01\n",
      "   ----------------------------- -------- 747.5/958.1 kB 597.0 kB/s eta 0:00:01\n",
      "   ------------------------------ ------- 778.2/958.1 kB 599.1 kB/s eta 0:00:01\n",
      "   ------------------------------- ------ 798.7/958.1 kB 593.3 kB/s eta 0:00:01\n",
      "   -------------------------------- ----- 829.4/958.1 kB 595.8 kB/s eta 0:00:01\n",
      "   ---------------------------------- --- 860.2/958.1 kB 591.0 kB/s eta 0:00:01\n",
      "   ---------------------------------- --- 880.6/958.1 kB 592.5 kB/s eta 0:00:01\n",
      "   ------------------------------------ - 911.4/958.1 kB 594.4 kB/s eta 0:00:01\n",
      "   ------------------------------------ - 931.8/958.1 kB 589.6 kB/s eta 0:00:01\n",
      "   -------------------------------------  952.3/958.1 kB 591.0 kB/s eta 0:00:01\n",
      "   -------------------------------------  952.3/958.1 kB 591.0 kB/s eta 0:00:01\n",
      "   -------------------------------------  952.3/958.1 kB 591.0 kB/s eta 0:00:01\n",
      "   -------------------------------------  952.3/958.1 kB 591.0 kB/s eta 0:00:01\n",
      "   -------------------------------------  952.3/958.1 kB 591.0 kB/s eta 0:00:01\n",
      "   -------------------------------------- 958.1/958.1 kB 518.2 kB/s eta 0:00:00\n",
      "Downloading Farama_Notifications-0.0.4-py3-none-any.whl (2.5 kB)\n",
      "Installing collected packages: farama-notifications, gymnasium\n",
      "Successfully installed farama-notifications-0.0.4 gymnasium-1.0.0\n"
     ]
    },
    {
     "name": "stderr",
     "output_type": "stream",
     "text": [
      "\n",
      "[notice] A new release of pip is available: 24.0 -> 24.3.1\n",
      "[notice] To update, run: python.exe -m pip install --upgrade pip\n"
     ]
    }
   ],
   "source": [
    "try:\n",
    "    import gymnasium as gym\n",
    "except:\n",
    "    !pip3 install gymnasium\n",
    "    import gymnasium as gym"
   ]
  },
  {
   "cell_type": "markdown",
   "metadata": {},
   "source": [
    "If there is time, start implementing TicTacToe with 1/2 player(s)"
   ]
  },
  {
   "cell_type": "code",
   "execution_count": null,
   "metadata": {},
   "outputs": [],
   "source": [
    "# your code here\n",
    "\n"
   ]
  },
  {
   "cell_type": "markdown",
   "metadata": {},
   "source": [
    "Try and implement a simple time difference update of p(win).\n",
    "Remember that the general definition of the TD update rule is:\n",
    "\n",
    "$$ V(s_t) \\leftarrow V(s_t) + \\alpha[ V(s_{t+1}) - V(s_{t}] $$"
   ]
  },
  {
   "cell_type": "code",
   "execution_count": null,
   "metadata": {},
   "outputs": [],
   "source": [
    "# your code here"
   ]
  }
 ],
 "metadata": {
  "kernelspec": {
   "display_name": "Python 3 (ipykernel)",
   "language": "python",
   "name": "python3"
  },
  "language_info": {
   "codemirror_mode": {
    "name": "ipython",
    "version": 3
   },
   "file_extension": ".py",
   "mimetype": "text/x-python",
   "name": "python",
   "nbconvert_exporter": "python",
   "pygments_lexer": "ipython3",
   "version": "3.11.5"
  },
  "vscode": {
   "interpreter": {
    "hash": "aee8b7b246df8f9039afb4144a1f6fd8d2ca17a180786b69acc140d282b71a49"
   }
  }
 },
 "nbformat": 4,
 "nbformat_minor": 4
}
